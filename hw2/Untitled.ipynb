{
 "cells": [
  {
   "cell_type": "code",
   "execution_count": 1,
   "metadata": {},
   "outputs": [],
   "source": [
    "import pandas as pd\n",
    "import glob"
   ]
  },
  {
   "cell_type": "code",
   "execution_count": 2,
   "metadata": {},
   "outputs": [],
   "source": [
    "mylist = [f for f in glob.glob(\"aclImdb/train/neg/*.txt\")]\n",
    "negs = []\n",
    "for item in mylist:\n",
    "    f = open(item,'r')\n",
    "    negs.append((f.read(),0))"
   ]
  },
  {
   "cell_type": "code",
   "execution_count": 3,
   "metadata": {},
   "outputs": [],
   "source": [
    "mylist = [f for f in glob.glob(\"aclImdb/train/pos/*.txt\")]\n",
    "poss = []\n",
    "for item in mylist:\n",
    "    f = open(item,'r')\n",
    "    poss.append((f.read(),1))"
   ]
  },
  {
   "cell_type": "code",
   "execution_count": 4,
   "metadata": {},
   "outputs": [
    {
     "data": {
      "text/html": [
       "<div>\n",
       "<style scoped>\n",
       "    .dataframe tbody tr th:only-of-type {\n",
       "        vertical-align: middle;\n",
       "    }\n",
       "\n",
       "    .dataframe tbody tr th {\n",
       "        vertical-align: top;\n",
       "    }\n",
       "\n",
       "    .dataframe thead th {\n",
       "        text-align: right;\n",
       "    }\n",
       "</style>\n",
       "<table border=\"1\" class=\"dataframe\">\n",
       "  <thead>\n",
       "    <tr style=\"text-align: right;\">\n",
       "      <th></th>\n",
       "      <th>sentences</th>\n",
       "      <th>target</th>\n",
       "    </tr>\n",
       "  </thead>\n",
       "  <tbody>\n",
       "    <tr>\n",
       "      <th>0</th>\n",
       "      <td>Will Farmer (Lanter) plays a computer game tha...</td>\n",
       "      <td>0</td>\n",
       "    </tr>\n",
       "    <tr>\n",
       "      <th>1</th>\n",
       "      <td>I love watching Jerry as much as the rest of t...</td>\n",
       "      <td>0</td>\n",
       "    </tr>\n",
       "    <tr>\n",
       "      <th>2</th>\n",
       "      <td>I was utterly disappointed by this movie. I ha...</td>\n",
       "      <td>0</td>\n",
       "    </tr>\n",
       "    <tr>\n",
       "      <th>3</th>\n",
       "      <td>haha! you have to just smile and smile if you ...</td>\n",
       "      <td>0</td>\n",
       "    </tr>\n",
       "    <tr>\n",
       "      <th>4</th>\n",
       "      <td>So often a band will get together for a re-uni...</td>\n",
       "      <td>1</td>\n",
       "    </tr>\n",
       "    <tr>\n",
       "      <th>...</th>\n",
       "      <td>...</td>\n",
       "      <td>...</td>\n",
       "    </tr>\n",
       "    <tr>\n",
       "      <th>24995</th>\n",
       "      <td>There are just so many things wrong with this ...</td>\n",
       "      <td>0</td>\n",
       "    </tr>\n",
       "    <tr>\n",
       "      <th>24996</th>\n",
       "      <td>Fully deserving its prestigious Hollywood awar...</td>\n",
       "      <td>1</td>\n",
       "    </tr>\n",
       "    <tr>\n",
       "      <th>24997</th>\n",
       "      <td>I never much liked the Myra movie, tho I appre...</td>\n",
       "      <td>0</td>\n",
       "    </tr>\n",
       "    <tr>\n",
       "      <th>24998</th>\n",
       "      <td>Perfect for families with small children who a...</td>\n",
       "      <td>1</td>\n",
       "    </tr>\n",
       "    <tr>\n",
       "      <th>24999</th>\n",
       "      <td>\"Don't bother to watch this film\" would be bet...</td>\n",
       "      <td>0</td>\n",
       "    </tr>\n",
       "  </tbody>\n",
       "</table>\n",
       "<p>25000 rows × 2 columns</p>\n",
       "</div>"
      ],
      "text/plain": [
       "                                               sentences  target\n",
       "0      Will Farmer (Lanter) plays a computer game tha...       0\n",
       "1      I love watching Jerry as much as the rest of t...       0\n",
       "2      I was utterly disappointed by this movie. I ha...       0\n",
       "3      haha! you have to just smile and smile if you ...       0\n",
       "4      So often a band will get together for a re-uni...       1\n",
       "...                                                  ...     ...\n",
       "24995  There are just so many things wrong with this ...       0\n",
       "24996  Fully deserving its prestigious Hollywood awar...       1\n",
       "24997  I never much liked the Myra movie, tho I appre...       0\n",
       "24998  Perfect for families with small children who a...       1\n",
       "24999  \"Don't bother to watch this film\" would be bet...       0\n",
       "\n",
       "[25000 rows x 2 columns]"
      ]
     },
     "execution_count": 4,
     "metadata": {},
     "output_type": "execute_result"
    }
   ],
   "source": [
    "df_train = pd.DataFrame(negs)\n",
    "df_train = df_train.append(poss)\n",
    "df_train = df_train.rename(columns={0: 'sentences', 1: 'target'})\n",
    "df_train = df_train.sample(frac=1).reset_index(drop=True)\n",
    "df_train"
   ]
  },
  {
   "cell_type": "code",
   "execution_count": 5,
   "metadata": {},
   "outputs": [
    {
     "data": {
      "text/html": [
       "<div>\n",
       "<style scoped>\n",
       "    .dataframe tbody tr th:only-of-type {\n",
       "        vertical-align: middle;\n",
       "    }\n",
       "\n",
       "    .dataframe tbody tr th {\n",
       "        vertical-align: top;\n",
       "    }\n",
       "\n",
       "    .dataframe thead th {\n",
       "        text-align: right;\n",
       "    }\n",
       "</style>\n",
       "<table border=\"1\" class=\"dataframe\">\n",
       "  <thead>\n",
       "    <tr style=\"text-align: right;\">\n",
       "      <th></th>\n",
       "      <th>sentences</th>\n",
       "      <th>target</th>\n",
       "    </tr>\n",
       "  </thead>\n",
       "  <tbody>\n",
       "    <tr>\n",
       "      <th>0</th>\n",
       "      <td>I suppose I like this film as well as any I kn...</td>\n",
       "      <td>1</td>\n",
       "    </tr>\n",
       "    <tr>\n",
       "      <th>1</th>\n",
       "      <td>...an incomprehensible script (when it shouldn...</td>\n",
       "      <td>0</td>\n",
       "    </tr>\n",
       "    <tr>\n",
       "      <th>2</th>\n",
       "      <td>Personally, the book was a very well written, ...</td>\n",
       "      <td>0</td>\n",
       "    </tr>\n",
       "    <tr>\n",
       "      <th>3</th>\n",
       "      <td>'Don't Look In the Basement' is so easy to kno...</td>\n",
       "      <td>1</td>\n",
       "    </tr>\n",
       "    <tr>\n",
       "      <th>4</th>\n",
       "      <td>Black Rain is a superb film, but watch out for...</td>\n",
       "      <td>1</td>\n",
       "    </tr>\n",
       "    <tr>\n",
       "      <th>...</th>\n",
       "      <td>...</td>\n",
       "      <td>...</td>\n",
       "    </tr>\n",
       "    <tr>\n",
       "      <th>24995</th>\n",
       "      <td>Subspecies is set in Romania where two America...</td>\n",
       "      <td>0</td>\n",
       "    </tr>\n",
       "    <tr>\n",
       "      <th>24996</th>\n",
       "      <td>I am really sad that that this film has got so...</td>\n",
       "      <td>1</td>\n",
       "    </tr>\n",
       "    <tr>\n",
       "      <th>24997</th>\n",
       "      <td>The net is an excellent movie! It's about Ange...</td>\n",
       "      <td>1</td>\n",
       "    </tr>\n",
       "    <tr>\n",
       "      <th>24998</th>\n",
       "      <td>I was completely bored with this film, melodra...</td>\n",
       "      <td>0</td>\n",
       "    </tr>\n",
       "    <tr>\n",
       "      <th>24999</th>\n",
       "      <td>This is quite possibly the worst film I have e...</td>\n",
       "      <td>0</td>\n",
       "    </tr>\n",
       "  </tbody>\n",
       "</table>\n",
       "<p>25000 rows × 2 columns</p>\n",
       "</div>"
      ],
      "text/plain": [
       "                                               sentences  target\n",
       "0      I suppose I like this film as well as any I kn...       1\n",
       "1      ...an incomprehensible script (when it shouldn...       0\n",
       "2      Personally, the book was a very well written, ...       0\n",
       "3      'Don't Look In the Basement' is so easy to kno...       1\n",
       "4      Black Rain is a superb film, but watch out for...       1\n",
       "...                                                  ...     ...\n",
       "24995  Subspecies is set in Romania where two America...       0\n",
       "24996  I am really sad that that this film has got so...       1\n",
       "24997  The net is an excellent movie! It's about Ange...       1\n",
       "24998  I was completely bored with this film, melodra...       0\n",
       "24999  This is quite possibly the worst film I have e...       0\n",
       "\n",
       "[25000 rows x 2 columns]"
      ]
     },
     "execution_count": 5,
     "metadata": {},
     "output_type": "execute_result"
    }
   ],
   "source": [
    "mylist = [f for f in glob.glob(\"aclImdb/test/neg/*.txt\")]\n",
    "negs = []\n",
    "for item in mylist:\n",
    "    f = open(item,'r')\n",
    "    negs.append((f.read(),0))\n",
    "    \n",
    "mylist = [f for f in glob.glob(\"aclImdb/test/pos/*.txt\")]\n",
    "poss = []\n",
    "for item in mylist:\n",
    "    f = open(item,'r')\n",
    "    poss.append((f.read(),1))\n",
    "\n",
    "df_test = pd.DataFrame(negs)\n",
    "df_test = df_test.append(poss)\n",
    "df_test = df_test.rename(columns={0: 'sentences', 1: 'target'})\n",
    "df_test = df_test.sample(frac=1).reset_index(drop=True)\n",
    "df_test"
   ]
  },
  {
   "cell_type": "code",
   "execution_count": 6,
   "metadata": {},
   "outputs": [],
   "source": [
    "from sklearn.feature_extraction.text import CountVectorizer\n",
    "\n",
    "bow_transformer = CountVectorizer(analyzer='word',stop_words='english')\n",
    "bow_transformer.fit(df_train['sentences'])\n",
    "\n",
    "X_train = bow_transformer.transform(df_train['sentences'])\n",
    "X_test  = bow_transformer.transform(df_test['sentences'])"
   ]
  },
  {
   "cell_type": "code",
   "execution_count": 12,
   "metadata": {},
   "outputs": [],
   "source": [
    "X_train_arr = X_train[:10000].toarray()\n",
    "X_test_arr = X_test[:10000].toarray()"
   ]
  },
  {
   "cell_type": "code",
   "execution_count": 14,
   "metadata": {},
   "outputs": [],
   "source": [
    "from tensorflow.keras.models import Sequential\n",
    "from tensorflow.keras import layers\n",
    "\n",
    "input_dim = X_train.shape[1]\n",
    "\n",
    "model_clf = Sequential()\n",
    "model_clf.add(layers.Dense(10, input_dim=input_dim, activation='relu'))\n",
    "model_clf.add(layers.Dense(1, activation='sigmoid'))"
   ]
  },
  {
   "cell_type": "code",
   "execution_count": 15,
   "metadata": {},
   "outputs": [
    {
     "name": "stdout",
     "output_type": "stream",
     "text": [
      "Model: \"sequential\"\n",
      "_________________________________________________________________\n",
      " Layer (type)                Output Shape              Param #   \n",
      "=================================================================\n",
      " dense (Dense)               (None, 10)                752730    \n",
      "                                                                 \n",
      " dense_1 (Dense)             (None, 1)                 11        \n",
      "                                                                 \n",
      "=================================================================\n",
      "Total params: 752,741\n",
      "Trainable params: 752,741\n",
      "Non-trainable params: 0\n",
      "_________________________________________________________________\n"
     ]
    }
   ],
   "source": [
    "model_clf.compile(loss='binary_crossentropy', \n",
    "              optimizer='adam', \n",
    "              metrics=['accuracy'])\n",
    "model_clf.summary()"
   ]
  },
  {
   "cell_type": "code",
   "execution_count": 17,
   "metadata": {},
   "outputs": [
    {
     "name": "stdout",
     "output_type": "stream",
     "text": [
      "Epoch 1/15\n",
      "157/157 [==============================] - 25s 147ms/step - loss: 0.4355 - accuracy: 0.8427 - val_loss: 0.3417 - val_accuracy: 0.8748\n",
      "Epoch 2/15\n",
      "157/157 [==============================] - 31s 197ms/step - loss: 0.1799 - accuracy: 0.9500 - val_loss: 0.3183 - val_accuracy: 0.8730\n",
      "Epoch 3/15\n",
      "157/157 [==============================] - 31s 196ms/step - loss: 0.0944 - accuracy: 0.9822 - val_loss: 0.3262 - val_accuracy: 0.8709\n",
      "Epoch 4/15\n",
      "157/157 [==============================] - 58s 369ms/step - loss: 0.0544 - accuracy: 0.9928 - val_loss: 0.3434 - val_accuracy: 0.8686\n",
      "Epoch 5/15\n",
      "157/157 [==============================] - 44s 272ms/step - loss: 0.0340 - accuracy: 0.9970 - val_loss: 0.3642 - val_accuracy: 0.8670\n",
      "Epoch 6/15\n",
      "157/157 [==============================] - 33s 203ms/step - loss: 0.0226 - accuracy: 0.9982 - val_loss: 0.3837 - val_accuracy: 0.8649\n",
      "Epoch 7/15\n",
      "157/157 [==============================] - 26s 162ms/step - loss: 0.0158 - accuracy: 0.9990 - val_loss: 0.4049 - val_accuracy: 0.8638\n",
      "Epoch 8/15\n",
      "157/157 [==============================] - 28s 176ms/step - loss: 0.0114 - accuracy: 0.9993 - val_loss: 0.4237 - val_accuracy: 0.8629\n",
      "Epoch 9/15\n",
      "157/157 [==============================] - 26s 169ms/step - loss: 0.0085 - accuracy: 0.9997 - val_loss: 0.4414 - val_accuracy: 0.8621\n",
      "Epoch 10/15\n",
      "157/157 [==============================] - 27s 175ms/step - loss: 0.0065 - accuracy: 0.9997 - val_loss: 0.4575 - val_accuracy: 0.8616\n",
      "Epoch 11/15\n",
      "157/157 [==============================] - 35s 222ms/step - loss: 0.0051 - accuracy: 0.9997 - val_loss: 0.4736 - val_accuracy: 0.8611\n",
      "Epoch 12/15\n",
      "157/157 [==============================] - 35s 215ms/step - loss: 0.0041 - accuracy: 0.9997 - val_loss: 0.4887 - val_accuracy: 0.8591\n",
      "Epoch 13/15\n",
      "157/157 [==============================] - 52s 326ms/step - loss: 0.0034 - accuracy: 0.9997 - val_loss: 0.5024 - val_accuracy: 0.8600\n",
      "Epoch 14/15\n",
      "157/157 [==============================] - 30s 195ms/step - loss: 0.0029 - accuracy: 0.9997 - val_loss: 0.5173 - val_accuracy: 0.8579\n",
      "Epoch 15/15\n",
      "157/157 [==============================] - 28s 182ms/step - loss: 0.0024 - accuracy: 0.9997 - val_loss: 0.5302 - val_accuracy: 0.8578\n"
     ]
    }
   ],
   "source": [
    "history = model_clf.fit(X_train_arr, df_train['target'][:10000],\n",
    "                    epochs=15,\n",
    "                    verbose=True,\n",
    "                    validation_data=(X_test_arr, df_test['target'][:10000]),\n",
    "                    batch_size=64)"
   ]
  },
  {
   "cell_type": "code",
   "execution_count": 18,
   "metadata": {},
   "outputs": [],
   "source": [
    "import matplotlib.pyplot as plt\n",
    "plt.style.use('ggplot')\n",
    "\n",
    "def plot_history(history):\n",
    "    acc = history.history['accuracy']\n",
    "    val_acc = history.history['val_accuracy']\n",
    "    loss = history.history['loss']\n",
    "    val_loss = history.history['val_loss']\n",
    "    x = range(1, len(acc) + 1)\n",
    "\n",
    "    plt.figure(figsize=(12, 5))\n",
    "    plt.subplot(1, 2, 1)\n",
    "    plt.plot(x, acc, 'b', label='Training acc')\n",
    "    plt.plot(x, val_acc, 'r', label='Validation acc')\n",
    "    plt.title('Training and validation accuracy')\n",
    "    plt.legend()\n",
    "    plt.subplot(1, 2, 2)\n",
    "    plt.plot(x, loss, 'b', label='Training loss')\n",
    "    plt.plot(x, val_loss, 'r', label='Validation loss')\n",
    "    plt.title('Training and validation loss')\n",
    "    plt.legend()"
   ]
  },
  {
   "cell_type": "code",
   "execution_count": 19,
   "metadata": {},
   "outputs": [
    {
     "data": {
      "image/png": "[encoded data removed]",
      "text/plain": [
       "<Figure size 864x360 with 2 Axes>"
      ]
     },
     "metadata": {},
     "output_type": "display_data"
    }
   ],
   "source": [
    "plot_history(history)"
   ]
  },
  {
   "cell_type": "code",
   "execution_count": 20,
   "metadata": {},
   "outputs": [
    {
     "name": "stdout",
     "output_type": "stream",
     "text": [
      "Training Accuracy: 0.9997\n",
      "Training Loss: 0.0021\n"
     ]
    }
   ],
   "source": [
    "loss, accuracy = model_clf.evaluate(X_train_arr, df_train['target'][:10000], verbose=False)\n",
    "print(\"Training Accuracy: {:.4f}\".format(accuracy))\n",
    "print(\"Training Loss: {:.4f}\".format(loss))"
   ]
  },
  {
   "cell_type": "code",
   "execution_count": 21,
   "metadata": {},
   "outputs": [
    {
     "name": "stdout",
     "output_type": "stream",
     "text": [
      "Testing Accuracy:  0.8578\n",
      "Testing Loss:  0.5302\n"
     ]
    }
   ],
   "source": [
    "loss, accuracy = model_clf.evaluate(X_test_arr, df_test['target'][:10000], verbose=False)\n",
    "print(\"Testing Accuracy:  {:.4f}\".format(accuracy))\n",
    "print(\"Testing Loss:  {:.4f}\".format(loss))"
   ]
  },
  {
   "cell_type": "markdown",
   "metadata": {},
   "source": [
    "# using tfidf"
   ]
  },
  {
   "cell_type": "code",
   "execution_count": 22,
   "metadata": {},
   "outputs": [],
   "source": [
    "from sklearn.feature_extraction.text import TfidfTransformer\n",
    "\n",
    "tfidf_transformer = TfidfTransformer().fit(X_train)\n",
    "\n",
    "train_tfidf = tfidf_transformer.transform(X_train)\n",
    "test_tfidf = tfidf_transformer.transform(X_test)"
   ]
  },
  {
   "cell_type": "code",
   "execution_count": 32,
   "metadata": {},
   "outputs": [],
   "source": [
    "del(X_test_arr)\n",
    "del(X_train_arr)"
   ]
  },
  {
   "cell_type": "code",
   "execution_count": 30,
   "metadata": {},
   "outputs": [],
   "source": [
    "train_tfidf_arr = train_tfidf[:10000].toarray()\n",
    "test_tfidf_arr = test_tfidf[:10000].toarray()"
   ]
  },
  {
   "cell_type": "code",
   "execution_count": 33,
   "metadata": {},
   "outputs": [
    {
     "name": "stdout",
     "output_type": "stream",
     "text": [
      "Model: \"sequential_3\"\n",
      "_________________________________________________________________\n",
      " Layer (type)                Output Shape              Param #   \n",
      "=================================================================\n",
      " dense_6 (Dense)             (None, 10)                752730    \n",
      "                                                                 \n",
      " dense_7 (Dense)             (None, 1)                 11        \n",
      "                                                                 \n",
      "=================================================================\n",
      "Total params: 752,741\n",
      "Trainable params: 752,741\n",
      "Non-trainable params: 0\n",
      "_________________________________________________________________\n",
      "Epoch 1/15\n",
      "157/157 [==============================] - 48s 249ms/step - loss: 0.6390 - accuracy: 0.8143 - val_loss: 0.5756 - val_accuracy: 0.8521\n",
      "Epoch 2/15\n",
      "157/157 [==============================] - 16s 99ms/step - loss: 0.4553 - accuracy: 0.9138 - val_loss: 0.4480 - val_accuracy: 0.8614\n",
      "Epoch 3/15\n",
      "157/157 [==============================] - 5s 31ms/step - loss: 0.3019 - accuracy: 0.9422 - val_loss: 0.3762 - val_accuracy: 0.8677\n",
      "Epoch 4/15\n",
      "157/157 [==============================] - 4s 25ms/step - loss: 0.2076 - accuracy: 0.9670 - val_loss: 0.3391 - val_accuracy: 0.8692\n",
      "Epoch 5/15\n",
      "157/157 [==============================] - 5s 31ms/step - loss: 0.1485 - accuracy: 0.9780 - val_loss: 0.3206 - val_accuracy: 0.8708\n",
      "Epoch 6/15\n",
      "157/157 [==============================] - 4s 28ms/step - loss: 0.1090 - accuracy: 0.9872 - val_loss: 0.3122 - val_accuracy: 0.8704\n",
      "Epoch 7/15\n",
      "157/157 [==============================] - 5s 32ms/step - loss: 0.0815 - accuracy: 0.9923 - val_loss: 0.3094 - val_accuracy: 0.8683\n",
      "Epoch 8/15\n",
      "157/157 [==============================] - 4s 25ms/step - loss: 0.0619 - accuracy: 0.9956 - val_loss: 0.3087 - val_accuracy: 0.8678\n",
      "Epoch 9/15\n",
      "157/157 [==============================] - 4s 25ms/step - loss: 0.0477 - accuracy: 0.9981 - val_loss: 0.3105 - val_accuracy: 0.8684\n",
      "Epoch 10/15\n",
      "157/157 [==============================] - 4s 24ms/step - loss: 0.0374 - accuracy: 0.9986 - val_loss: 0.3138 - val_accuracy: 0.8666\n",
      "Epoch 11/15\n",
      "157/157 [==============================] - 4s 25ms/step - loss: 0.0297 - accuracy: 0.9993 - val_loss: 0.3179 - val_accuracy: 0.8657\n",
      "Epoch 12/15\n",
      "157/157 [==============================] - 5s 30ms/step - loss: 0.0240 - accuracy: 0.9995 - val_loss: 0.3236 - val_accuracy: 0.8637\n",
      "Epoch 13/15\n",
      "157/157 [==============================] - 4s 28ms/step - loss: 0.0196 - accuracy: 0.9996 - val_loss: 0.3275 - val_accuracy: 0.8623\n",
      "Epoch 14/15\n",
      "157/157 [==============================] - 4s 24ms/step - loss: 0.0162 - accuracy: 0.9996 - val_loss: 0.3330 - val_accuracy: 0.8616\n",
      "Epoch 15/15\n",
      "157/157 [==============================] - 4s 24ms/step - loss: 0.0135 - accuracy: 0.9997 - val_loss: 0.3376 - val_accuracy: 0.8608\n"
     ]
    }
   ],
   "source": [
    "input_dim = train_tfidf_arr .shape[1]\n",
    "\n",
    "model_clf2 = Sequential()\n",
    "model_clf2.add(layers.Dense(10, input_dim=input_dim, activation='relu'))\n",
    "model_clf2.add(layers.Dense(1, activation='sigmoid'))\n",
    "\n",
    "model_clf2.compile(loss='binary_crossentropy', \n",
    "              optimizer='adam', \n",
    "              metrics=['accuracy'])\n",
    "model_clf2.summary()\n",
    "\n",
    "history2 = model_clf2.fit(train_tfidf_arr , df_train['target'][:10000],\n",
    "                    epochs=15,\n",
    "                    verbose=True,\n",
    "                    validation_data=(test_tfidf_arr , df_test['target'][:10000]),\n",
    "                    batch_size=64)"
   ]
  },
  {
   "cell_type": "code",
   "execution_count": 34,
   "metadata": {},
   "outputs": [
    {
     "name": "stdout",
     "output_type": "stream",
     "text": [
      "Training Accuracy: 0.9997\n",
      "Training Loss: 0.0116\n",
      "Testing Accuracy:  0.8608\n",
      "Testing Loss:  0.3376\n"
     ]
    },
    {
     "data": {
      "image/png": "[encoded data removed]",
      "text/plain": [
       "<Figure size 864x360 with 2 Axes>"
      ]
     },
     "metadata": {},
     "output_type": "display_data"
    }
   ],
   "source": [
    "plot_history(history2)\n",
    "\n",
    "loss, accuracy = model_clf2.evaluate(train_tfidf_arr, df_train['target'][:10000], verbose=False)\n",
    "print(\"Training Accuracy: {:.4f}\".format(accuracy))\n",
    "print(\"Training Loss: {:.4f}\".format(loss))\n",
    "\n",
    "loss, accuracy = model_clf2.evaluate(test_tfidf_arr, df_test['target'][:10000], verbose=False)\n",
    "print(\"Testing Accuracy:  {:.4f}\".format(accuracy))\n",
    "print(\"Testing Loss:  {:.4f}\".format(loss))"
   ]
  },
  {
   "cell_type": "code",
   "execution_count": null,
   "metadata": {},
   "outputs": [],
   "source": []
  }
 ],
 "metadata": {
  "kernelspec": {
   "display_name": "Python 3",
   "language": "python",
   "name": "python3"
  },
  "language_info": {
   "codemirror_mode": {
    "name": "ipython",
    "version": 3
   },
   "file_extension": ".py",
   "mimetype": "text/x-python",
   "name": "python",
   "nbconvert_exporter": "python",
   "pygments_lexer": "ipython3",
   "version": "3.8.2"
  }
 },
 "nbformat": 4,
 "nbformat_minor": 4
}
